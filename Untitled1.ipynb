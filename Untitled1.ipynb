{
  "nbformat": 4,
  "nbformat_minor": 0,
  "metadata": {
    "colab": {
      "private_outputs": true,
      "provenance": [],
      "authorship_tag": "ABX9TyPFNOpmyKnr3Qqs+qG/W5ue"
    },
    "kernelspec": {
      "name": "python3",
      "display_name": "Python 3"
    },
    "language_info": {
      "name": "python"
    }
  },
  "cells": [
    {
      "cell_type": "code",
      "source": [
        "# Liibraries Required\n",
        "!pip install langchain-huggingface\n",
        "\n",
        "# For API Calls\n",
        "!pip install huggingface_hub\n",
        "!pip install transformers\n",
        "!pip install accelerate\n",
        "!pip install bitsandbytes\n",
        "!pip install langchain\n"
      ],
      "metadata": {
        "id": "-Y5fAdvP9KnU"
      },
      "execution_count": null,
      "outputs": []
    },
    {
      "cell_type": "code",
      "source": [
        "!pip install fastapi\n",
        "!pip install uvicorn\n",
        "!pip install pydantic\n",
        "!pip install python-multipart\n",
        "!pip install nest-asyncio\n",
        "!pip install accelarate"
      ],
      "metadata": {
        "id": "RvtubqQ18B3L"
      },
      "execution_count": null,
      "outputs": []
    },
    {
      "cell_type": "code",
      "execution_count": null,
      "metadata": {
        "id": "53ANFvxRBrlt"
      },
      "outputs": [],
      "source": [
        "!pip install transformers"
      ]
    },
    {
      "cell_type": "code",
      "source": [
        "from transformers import pipeline"
      ],
      "metadata": {
        "id": "78FIubru3mCK"
      },
      "execution_count": null,
      "outputs": []
    },
    {
      "cell_type": "code",
      "source": [
        "sentiment_analysis = pipeline(\"sentiment-analysis\")"
      ],
      "metadata": {
        "id": "K2J7vX4Z3zVI"
      },
      "execution_count": null,
      "outputs": []
    },
    {
      "cell_type": "code",
      "source": [
        "sentiment_analysis(\"I love this!\")"
      ],
      "metadata": {
        "id": "eZDCk6ZM4Q7k"
      },
      "execution_count": null,
      "outputs": []
    },
    {
      "cell_type": "code",
      "source": [
        "sentiment_analysis(\"this product is great\")"
      ],
      "metadata": {
        "id": "LOOH3sIu4aAQ"
      },
      "execution_count": null,
      "outputs": []
    },
    {
      "cell_type": "code",
      "source": [
        "text_list = [\"this is a great product\",\n",
        "             \"it sucks\",\n",
        "             \"it is expensive\",\n",
        "             \"good quality\",\n",
        "             \"product is worst\",\n",
        "             \"this is a product of company\"]"
      ],
      "metadata": {
        "id": "Ac5uS4TV4h1D"
      },
      "execution_count": null,
      "outputs": []
    },
    {
      "cell_type": "code",
      "source": [
        "sentiment_analysis(text_list)"
      ],
      "metadata": {
        "id": "1OWZD5mr5hWj"
      },
      "execution_count": null,
      "outputs": []
    },
    {
      "cell_type": "code",
      "source": [
        "import fastapi\n",
        "from fastapi import FastAPI\n",
        "\n",
        "app = FastAPI()\n",
        "\n",
        "@app.post(\"/classify_sentiment\")\n",
        "def classify_sentiment(review):\n",
        "  label = sentiment_analysis(review)\n",
        "  return label[0][\"label\"]\n",
        "\n",
        "classify_sentiment(\"this is a great product\")"
      ],
      "metadata": {
        "id": "7DjWjO2f5kup"
      },
      "execution_count": null,
      "outputs": []
    },
    {
      "cell_type": "code",
      "source": [
        "# from langchain_huggingface import HuggingFacePipeline\n",
        "# from transformers import AutoModelForCausalLM, AutoTokenizer, pipeline\n",
        "\n",
        "# sentiment_analysis = pipeline(\"sentiment-analysis\")\n",
        "from transformers.pipelines import PIPELINE_REGISTRY\n",
        "PIPELINE_REGISTRY.supported_tasks.keys()"
      ],
      "metadata": {
        "collapsed": true,
        "id": "nZPW0L766rUd"
      },
      "execution_count": null,
      "outputs": []
    },
    {
      "cell_type": "code",
      "source": [
        "## summarization"
      ],
      "metadata": {
        "id": "Peb6A_z97oDf"
      },
      "execution_count": null,
      "outputs": []
    },
    {
      "cell_type": "code",
      "source": [
        "summerizer = pipeline(\"summarization\", model=\"google-t5/t5-base\")"
      ],
      "metadata": {
        "id": "m5i1S82u_yh_"
      },
      "execution_count": null,
      "outputs": []
    },
    {
      "cell_type": "code",
      "source": [
        "text = \"\"\"Transformers is more than a toolkit to use pretrained models: it's a community of projects built around it and the Hugging Face Hub. We want Transformers to enable developers, researchers, students, professors, engineers, and anyone else to build their dream projects.In order to celebrate the 100,000 stars of transformers, we have decided to put the spotlight on the community, and we have created the awesome-transformers page which lists 100 incredible projects built in the vicinity of transformers.\"\"\""
      ],
      "metadata": {
        "id": "MaC0cd0XAHG6"
      },
      "execution_count": null,
      "outputs": []
    },
    {
      "cell_type": "code",
      "source": [
        "summerizer(text)"
      ],
      "metadata": {
        "id": "7j4DxubwBBWP"
      },
      "execution_count": null,
      "outputs": []
    },
    {
      "cell_type": "code",
      "source": [
        "summarized_text = summerizer(text)"
      ],
      "metadata": {
        "id": "D2HB6tViBDt-"
      },
      "execution_count": null,
      "outputs": []
    },
    {
      "cell_type": "code",
      "source": [
        "# combination of different pipelines"
      ],
      "metadata": {
        "id": "Ie_P-Jj9BY58"
      },
      "execution_count": null,
      "outputs": []
    },
    {
      "cell_type": "code",
      "source": [
        "summarized_text[0]['summary_text']"
      ],
      "metadata": {
        "id": "2TAAfqlqBjFx"
      },
      "execution_count": null,
      "outputs": []
    },
    {
      "cell_type": "code",
      "source": [
        "sentiment_analysis(summarized_text[0]['summary_text'])"
      ],
      "metadata": {
        "id": "QUEY9q0bBuBU"
      },
      "execution_count": null,
      "outputs": []
    },
    {
      "cell_type": "code",
      "source": [
        "## zero shot classification"
      ],
      "metadata": {
        "id": "kRH4_VeJB4am"
      },
      "execution_count": null,
      "outputs": []
    },
    {
      "cell_type": "code",
      "source": [
        "zero_classifier = pipeline(\"zero-shot-classification\",model = \"facebook/bart-large-mnli\")"
      ],
      "metadata": {
        "id": "2Zr2i77eEBFP"
      },
      "execution_count": null,
      "outputs": []
    },
    {
      "cell_type": "code",
      "source": [
        "zero_classifier('My job is to perform preprocessing on text and build models', candidate_labels = [\"Machine learning\", \"deep learning\", \"nlp\"])"
      ],
      "metadata": {
        "id": "1_9pXUuLEvh0"
      },
      "execution_count": null,
      "outputs": []
    },
    {
      "cell_type": "code",
      "source": [
        "zero_classifier('My job is to perform preprocessing on text.', candidate_labels = [\"Machine learning\", \"deep learning\", \"nlp\"])"
      ],
      "metadata": {
        "id": "nitlswnSFlkw"
      },
      "execution_count": null,
      "outputs": []
    },
    {
      "cell_type": "code",
      "source": [
        "zero_classifier('my credit card is stolen',candidate_labels=['credit card','account', 'loan','service'])"
      ],
      "metadata": {
        "id": "14me_OgNF1_3"
      },
      "execution_count": null,
      "outputs": []
    },
    {
      "cell_type": "code",
      "source": [],
      "metadata": {
        "id": "VHMG2WYGGaTj"
      },
      "execution_count": null,
      "outputs": []
    }
  ]
}