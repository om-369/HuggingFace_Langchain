{
  "nbformat": 4,
  "nbformat_minor": 0,
  "metadata": {
    "colab": {
      "private_outputs": true,
      "provenance": [],
      "authorship_tag": "ABX9TyOOhINjXNLTUQg+Xvv317A1"
    },
    "kernelspec": {
      "name": "python3",
      "display_name": "Python 3"
    },
    "language_info": {
      "name": "python"
    }
  },
  "cells": [
    {
      "cell_type": "code",
      "execution_count": null,
      "metadata": {
        "id": "Bbi4VG64fTaG"
      },
      "outputs": [],
      "source": [
        "from transformers import pipeline"
      ]
    },
    {
      "cell_type": "code",
      "source": [
        "classifier = pipeline(\"sentiment-analysis\")"
      ],
      "metadata": {
        "id": "9XNsEhLLftOM"
      },
      "execution_count": null,
      "outputs": []
    },
    {
      "cell_type": "code",
      "source": [
        "classifier('this was not good')"
      ],
      "metadata": {
        "id": "IR_Be6UUf8rK"
      },
      "execution_count": null,
      "outputs": []
    },
    {
      "cell_type": "code",
      "source": [
        "reviews = ['this was not good',\n",
        "           'this is really good',\n",
        "           'love it',\n",
        "           'hate it']"
      ],
      "metadata": {
        "id": "yvMVhEAXgIqX"
      },
      "execution_count": null,
      "outputs": []
    },
    {
      "cell_type": "code",
      "source": [
        "classifier(reviews)"
      ],
      "metadata": {
        "id": "3mfOubEUgd_U"
      },
      "execution_count": null,
      "outputs": []
    },
    {
      "cell_type": "code",
      "source": [
        "# summarizer pipeline"
      ],
      "metadata": {
        "id": "A5dtH8sGg95l"
      },
      "execution_count": null,
      "outputs": []
    },
    {
      "cell_type": "code",
      "source": [
        "summarizer = pipeline('summarization')"
      ],
      "metadata": {
        "id": "c8A67PrXghwH"
      },
      "execution_count": null,
      "outputs": []
    },
    {
      "cell_type": "code",
      "source": [
        "text = '''OpenAI is an American artificial intelligence (AI) research organization founded in December 2015 and headquartered in San Francisco, California. Its mission is to develop \"safe and beneficial\" artificial general intelligence (AGI), which it defines as \"highly autonomous systems that outperform humans at most economically valuable work\".[5] As a leading organization in the ongoing AI boom,[6] OpenAI is known for the GPT family of large language models, the DALL-E series of text-to-image models, and a text-to-video model named Sora.[7][8] Its release of ChatGPT in November 2022 has been credited with catalyzing widespread interest in generative AI.'''"
      ],
      "metadata": {
        "id": "5DhNKnNug83N"
      },
      "execution_count": null,
      "outputs": []
    },
    {
      "cell_type": "code",
      "source": [
        "summary_text = summarizer(text)"
      ],
      "metadata": {
        "id": "GDQS0bwXhjWr"
      },
      "execution_count": null,
      "outputs": []
    },
    {
      "cell_type": "code",
      "source": [
        "summary_text[0]['summary_text']"
      ],
      "metadata": {
        "id": "tBZEmDV4hqsy"
      },
      "execution_count": null,
      "outputs": []
    },
    {
      "cell_type": "code",
      "source": [
        "classifier(summary_text[0]['summary_text'])"
      ],
      "metadata": {
        "id": "vicQtDmZh-9Y"
      },
      "execution_count": null,
      "outputs": []
    },
    {
      "cell_type": "markdown",
      "source": [
        "# Model Tokenizer"
      ],
      "metadata": {
        "id": "c19bF0roihsv"
      }
    },
    {
      "cell_type": "code",
      "source": [
        "# while choosing the model\n",
        "\n",
        "model & tokenizer of the same model\n",
        "pytorch vs tensorflow\n",
        "auto class according to specific task."
      ],
      "metadata": {
        "id": "98Cq5L9BigOx"
      },
      "execution_count": null,
      "outputs": []
    },
    {
      "cell_type": "code",
      "source": [
        "model_name = 'lxyuan/distilbert-base-multilingual-cased-sentiments-student'"
      ],
      "metadata": {
        "id": "Vs8Gxg7ji6K_"
      },
      "execution_count": null,
      "outputs": []
    },
    {
      "cell_type": "code",
      "source": [
        "from transformers import AutoTokenizer, AutoModel"
      ],
      "metadata": {
        "id": "c0YIjG6uiTNV"
      },
      "execution_count": null,
      "outputs": []
    },
    {
      "cell_type": "code",
      "source": [
        "model = AutoModel.from_pretrained(model_name)\n",
        "tokenizer = AutoTokenizer.from_pretrained(model_name)"
      ],
      "metadata": {
        "id": "tvgdMMZwkrug"
      },
      "execution_count": null,
      "outputs": []
    },
    {
      "cell_type": "code",
      "source": [
        "# for using Tensor flow framework, while loading model class, start with TF"
      ],
      "metadata": {
        "id": "pxbPZW19lT5x"
      },
      "execution_count": null,
      "outputs": []
    },
    {
      "cell_type": "code",
      "source": [
        "# from transformers import AutoTokenizer, TFAutoModel"
      ],
      "metadata": {
        "id": "nwQoFr30mNNF"
      },
      "execution_count": null,
      "outputs": []
    },
    {
      "cell_type": "code",
      "source": [
        "## AutoTokenizer --"
      ],
      "metadata": {
        "id": "LhVjhfntmiwj"
      },
      "execution_count": null,
      "outputs": []
    },
    {
      "cell_type": "code",
      "source": [
        "from transformers import AutoTokenizer"
      ],
      "metadata": {
        "id": "3_GrT7CWnUg9"
      },
      "execution_count": null,
      "outputs": []
    },
    {
      "cell_type": "code",
      "source": [
        "model = 'distilbert/distilbert-base-uncased'"
      ],
      "metadata": {
        "id": "xd8KtA4Xns_W"
      },
      "execution_count": null,
      "outputs": []
    },
    {
      "cell_type": "code",
      "source": [
        "tokenizer = AutoTokenizer.from_pretrained(model)"
      ],
      "metadata": {
        "id": "JU-qBMSSn8Y8"
      },
      "execution_count": null,
      "outputs": []
    },
    {
      "cell_type": "code",
      "source": [
        "encoded = tokenizer('this is a outstanding product love it')"
      ],
      "metadata": {
        "id": "-Lax5ql_oEfr"
      },
      "execution_count": null,
      "outputs": []
    },
    {
      "cell_type": "code",
      "source": [
        "encoded"
      ],
      "metadata": {
        "id": "5frhkRVeog8-"
      },
      "execution_count": null,
      "outputs": []
    },
    {
      "cell_type": "code",
      "source": [
        "encoded.input_ids"
      ],
      "metadata": {
        "id": "ygWRlUm9ooRD"
      },
      "execution_count": null,
      "outputs": []
    },
    {
      "cell_type": "code",
      "source": [
        "tokenizer.convert_ids_to_tokens(encoded.input_ids)"
      ],
      "metadata": {
        "id": "2IoJJ9HzpDkk"
      },
      "execution_count": null,
      "outputs": []
    },
    {
      "cell_type": "code",
      "source": [
        "tokenizer.convert_ids_to_tokens([0,100,101,102,103])"
      ],
      "metadata": {
        "id": "BCiCIdvLpVmr"
      },
      "execution_count": null,
      "outputs": []
    },
    {
      "cell_type": "code",
      "source": [
        "# special tokens"
      ],
      "metadata": {
        "id": "W7Y8TAjXpua2"
      },
      "execution_count": null,
      "outputs": []
    },
    {
      "cell_type": "code",
      "source": [
        "['PAD']----> padding\n",
        "['UNK']----> unknown\n",
        "['CLS']----> classification\n",
        "['SEP']----> seperator\n",
        "['MASK']---> mask"
      ],
      "metadata": {
        "id": "sNIkfamjpzkq"
      },
      "execution_count": null,
      "outputs": []
    },
    {
      "cell_type": "code",
      "source": [
        "text = ['this is a outstanding, product love it',\n",
        "        'it is a good product',\n",
        "        'it sucks']\n"
      ],
      "metadata": {
        "id": "6ohe0ShdqEkN"
      },
      "execution_count": null,
      "outputs": []
    },
    {
      "cell_type": "code",
      "source": [
        "encoded = tokenizer(text, padding=True)"
      ],
      "metadata": {
        "id": "rYNBQYdWqZgF"
      },
      "execution_count": null,
      "outputs": []
    },
    {
      "cell_type": "code",
      "source": [
        "encoded"
      ],
      "metadata": {
        "id": "CKfuuyDmqlBA"
      },
      "execution_count": null,
      "outputs": []
    },
    {
      "cell_type": "code",
      "source": [
        "for i in encoded.input_ids:\n",
        "  print(tokenizer.convert_ids_to_tokens(i))"
      ],
      "metadata": {
        "id": "H-ENDLMdqnbW"
      },
      "execution_count": null,
      "outputs": []
    },
    {
      "cell_type": "code",
      "source": [
        "# difference in tokenizer of two models"
      ],
      "metadata": {
        "id": "6zAbah4prLbg"
      },
      "execution_count": null,
      "outputs": []
    },
    {
      "cell_type": "code",
      "source": [
        "model = 'distilbert/distilbert-base-uncased'\n",
        "distil_tokenizer = AutoTokenizer.from_pretrained(model)"
      ],
      "metadata": {
        "id": "MNhw04EvrrQJ"
      },
      "execution_count": null,
      "outputs": []
    },
    {
      "cell_type": "code",
      "source": [
        "model_name_al = 'albert/albert-base-v2'\n",
        "albert_tokenizer = AutoTokenizer.from_pretrained(model_name_al)"
      ],
      "metadata": {
        "id": "rUXcuoPKsFWp"
      },
      "execution_count": null,
      "outputs": []
    },
    {
      "cell_type": "code",
      "source": [
        "# model_name = 'lxyuan/distilbert-base-multilingual-cased-sentiments-student'"
      ],
      "metadata": {
        "id": "CZfskLU0tEw9"
      },
      "execution_count": null,
      "outputs": []
    },
    {
      "cell_type": "code",
      "source": [
        "text = 'let us learn tokenization'"
      ],
      "metadata": {
        "id": "h5NZXN4CtLc4"
      },
      "execution_count": null,
      "outputs": []
    },
    {
      "cell_type": "code",
      "source": [
        "distil_tokenizer(text)"
      ],
      "metadata": {
        "id": "h0vjzw8RtVGx"
      },
      "execution_count": null,
      "outputs": []
    },
    {
      "cell_type": "code",
      "source": [
        "distil_tokenizer.convert_ids_to_tokens(distil_tokenizer(text)['input_ids'])"
      ],
      "metadata": {
        "id": "aahU91letZZ2"
      },
      "execution_count": null,
      "outputs": []
    },
    {
      "cell_type": "code",
      "source": [
        "albert_tokenizer(text)"
      ],
      "metadata": {
        "id": "SnTQmi8puQYI"
      },
      "execution_count": null,
      "outputs": []
    },
    {
      "cell_type": "code",
      "source": [
        "albert_tokenizer.convert_ids_to_tokens(albert_tokenizer(text)['input_ids'])"
      ],
      "metadata": {
        "id": "oeA4_3AhuQCz"
      },
      "execution_count": null,
      "outputs": []
    },
    {
      "cell_type": "code",
      "source": [
        "new_text = 'let us learn tokenization. with subword tokenization'"
      ],
      "metadata": {
        "id": "vAn-H-uXtpdC"
      },
      "execution_count": null,
      "outputs": []
    },
    {
      "cell_type": "code",
      "source": [
        "albert_tokenizer(new_text)"
      ],
      "metadata": {
        "id": "Ap2c62QAt_H5"
      },
      "execution_count": null,
      "outputs": []
    },
    {
      "cell_type": "code",
      "source": [
        "albert_tokenizer.convert_ids_to_tokens(albert_tokenizer(new_text)['input_ids'])"
      ],
      "metadata": {
        "id": "Egtt-aPKuky0"
      },
      "execution_count": null,
      "outputs": []
    },
    {
      "cell_type": "code",
      "source": [],
      "metadata": {
        "id": "iuF7qv6bupIE"
      },
      "execution_count": null,
      "outputs": []
    }
  ]
}